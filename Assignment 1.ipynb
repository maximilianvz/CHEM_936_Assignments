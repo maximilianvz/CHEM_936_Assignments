{
 "cells": [
  {
   "cell_type": "markdown",
   "id": "52a3dded",
   "metadata": {},
   "source": [
    "## Foreword\n",
    "In this Jupyter Notebook, I'll calculate the values of $S$ and $R$ for the Square Barrier problem at a variety of particle energies ($E$). I will demonstrate that $|S|^{2} + |R|^{2} = 1$ for all tested values of $E$ and compare my calculated values of $S$ and $R$ to those computed from formulae provided on [Wikipedia](https://en.wikipedia.org/wiki/Rectangular_potential_barrier). Also, I'll plot both my calculated and the expected values of $|S|^{2}$ and $|R|^{2}$ against $E$.\n",
    "\n",
    "## Function Definitions\n",
    "\n",
    "First, I'll import required packages/modules and establish some variables that will be used throughout my calculations."
   ]
  },
  {
   "cell_type": "code",
   "execution_count": 1,
   "id": "db4daa0a",
   "metadata": {},
   "outputs": [],
   "source": [
    "import math\n",
    "import cmath\n",
    "import numpy as np\n",
    "import matplotlib.pyplot as plt"
   ]
  },
  {
   "cell_type": "code",
   "execution_count": 2,
   "id": "39c3d532",
   "metadata": {},
   "outputs": [],
   "source": [
    "# define some global variables (in AU) for calculations\n",
    "m = 1837 # mass of a hydrogen atom in AU\n",
    "V_0 = 8e-4\n",
    "h_bar = 1 \n",
    "a = 3"
   ]
  },
  {
   "cell_type": "code",
   "execution_count": 3,
   "id": "570b6c0b",
   "metadata": {},
   "outputs": [],
   "source": [
    "# establish imaginary unit\n",
    "i = 1j"
   ]
  },
  {
   "cell_type": "markdown",
   "id": "1049e991",
   "metadata": {},
   "source": [
    "The following three functions will be used to calculate $k$, $k'$, and $\\kappa$."
   ]
  },
  {
   "cell_type": "code",
   "execution_count": 4,
   "id": "2cd73f32",
   "metadata": {},
   "outputs": [],
   "source": [
    "def calculate_k(E):\n",
    "    return math.sqrt(2 * m * E) / h_bar"
   ]
  },
  {
   "cell_type": "code",
   "execution_count": 5,
   "id": "eee4f122",
   "metadata": {},
   "outputs": [],
   "source": [
    "def calculate_k_prime(E):\n",
    "    return math.sqrt(2 * m * (E - V_0)) / h_bar"
   ]
  },
  {
   "cell_type": "code",
   "execution_count": 6,
   "id": "51e8a9f9",
   "metadata": {},
   "outputs": [],
   "source": [
    "def calculate_kappa(E):\n",
    "    return math.sqrt(2 * m * (V_0 - E)) / h_bar"
   ]
  },
  {
   "cell_type": "markdown",
   "id": "97fa11d7",
   "metadata": {},
   "source": [
    "The next four functions will be used to calculate the matrices $M_{L}$, $M_{R}$, $\\widetilde{M}$, and $M$ (defined in Dr. Carrington's notes)."
   ]
  },
  {
   "cell_type": "code",
   "execution_count": 7,
   "id": "c6e10bc7",
   "metadata": {},
   "outputs": [],
   "source": [
    "def calculate_M_L(k):\n",
    "    return np.array([[1, 1], \n",
    "                     [i * k, -i * k]])"
   ]
  },
  {
   "cell_type": "code",
   "execution_count": 8,
   "id": "894e5ae7",
   "metadata": {},
   "outputs": [],
   "source": [
    "def calculate_M_R(E, k_prime=None, kappa=None):\n",
    "    if E > V_0:\n",
    "        return np.array([[1, 1], \n",
    "                         [i * k_prime, -i * k_prime]])\n",
    "    else:\n",
    "        return np.array([[1, 1], \n",
    "                         [kappa, -kappa]])"
   ]
  },
  {
   "cell_type": "code",
   "execution_count": 9,
   "id": "a4e323aa",
   "metadata": {},
   "outputs": [],
   "source": [
    "def calculate_M_tilda(E, k_prime=None, kappa=None):\n",
    "    if E > V_0:\n",
    "        return np.array([[cmath.exp(i * k_prime * a), cmath.exp(-i * k_prime * a)], \n",
    "                         [i * k_prime * cmath.exp(i * k_prime * a), -i * k_prime * cmath.exp(-i * k_prime * a)]])\n",
    "    else:\n",
    "        return np.array([[cmath.exp(kappa * a), cmath.exp(-kappa * a)], \n",
    "                         [kappa * cmath.exp(kappa * a), -kappa * cmath.exp(-kappa * a)]])"
   ]
  },
  {
   "cell_type": "code",
   "execution_count": 10,
   "id": "7537e9c7",
   "metadata": {},
   "outputs": [],
   "source": [
    "def calculate_M(M_L, M_R, M_tilda):\n",
    "    return np.matmul(M_tilda, np.matmul(np.linalg.inv(M_R), M_L))"
   ]
  },
  {
   "cell_type": "markdown",
   "id": "8748b763",
   "metadata": {},
   "source": [
    "The function below is where the magic happens; it calls the above functions as required and calculates $S$ and $R$ from the 2 x 2 system of linear equations established in Dr. Carrington's notes."
   ]
  },
  {
   "cell_type": "code",
   "execution_count": 11,
   "id": "f214b912",
   "metadata": {},
   "outputs": [],
   "source": [
    "def calculate_s_and_r(E):\n",
    "    k = calculate_k(E)\n",
    "    M_L = calculate_M_L(k)\n",
    "    \n",
    "    # calculate M_R and M_tilda depending on value of energy relative to potential\n",
    "    if E > V_0:\n",
    "        k_prime = calculate_k_prime(E)\n",
    "        M_R = calculate_M_R(E, k_prime=k_prime)\n",
    "        M_tilda = calculate_M_tilda(E, k_prime=k_prime)\n",
    "        \n",
    "    else:\n",
    "        kappa = calculate_kappa(E)\n",
    "        M_R = calculate_M_R(E, kappa=kappa)\n",
    "        M_tilda = calculate_M_tilda(E, kappa=kappa)\n",
    "\n",
    "    M = calculate_M(M_L, M_R, M_tilda)\n",
    "    \n",
    "    # set up system of linear equations to solve for s and r\n",
    "    A = np.array([[-cmath.exp(i * k * a), M[0][1]], \n",
    "                  [-i * k * cmath.exp(i * k * a), M[1][1]]])\n",
    "    b = np.array([[-M[0][0]], \n",
    "                  [-M[1][0]]])\n",
    "    x = np.matmul(np.linalg.inv(A), b)\n",
    "    \n",
    "    s = x[0][0]\n",
    "    r = x[1][0]\n",
    "\n",
    "    return s, r"
   ]
  },
  {
   "cell_type": "markdown",
   "id": "f7f26f6f",
   "metadata": {},
   "source": [
    "The two functions in the below code cell calculate $S$ and $R$ using the aforementioned equations from Wikipedia."
   ]
  },
  {
   "cell_type": "code",
   "execution_count": 12,
   "id": "818a5109",
   "metadata": {},
   "outputs": [],
   "source": [
    "def calculate_s(k0, k1):\n",
    "    num = 4 * k0 * k1 * cmath.exp(-i * a * (k0 - k1))\n",
    "    denom = (k0 + k1) ** 2 - cmath.exp(2 * i * a * k1) * (k0 - k1) ** 2\n",
    "    return num / denom\n",
    "\n",
    "def calculate_r(k0, k1):\n",
    "    num = (k0 ** 2 - k1**2) * math.sin(a * k1)\n",
    "    denom = 2 * i * k0 * k1 * math.cos(a * k1) + (k0 **2 + k1 ** 2) * math.sin(a * k1)\n",
    "    return num / denom"
   ]
  },
  {
   "cell_type": "markdown",
   "id": "e2a210d1",
   "metadata": {},
   "source": [
    "## Comparing My Results to Wikipedia Numerically"
   ]
  },
  {
   "cell_type": "markdown",
   "id": "e093dbc3",
   "metadata": {},
   "source": [
    "Below, I print the values of $S$, $R$, $|S|^{2}$, and $|R|^{2}$ evaluated for different energies ($E$) using both my code (Calculated) and the formulae from Wikipedia (Expected). Inspection of the cell's output demonstrates that, within reason, my code reproduces the results from Wikipedia. Additionally, I show that both my code and Wikipedia produce the result, $|S|^{2} + |R|^{2} = 1$, for all $E$ tested."
   ]
  },
  {
   "cell_type": "code",
   "execution_count": 13,
   "id": "fcc9ffd3",
   "metadata": {},
   "outputs": [
    {
     "name": "stdout",
     "output_type": "stream",
     "text": [
      "Energy = 1e-10\n",
      "\n",
      "         S\n",
      "--------------------\n",
      "Calculated: (-9.176261528409668e-09-8.25760046735402e-06j)\n",
      "Expected:   (-1.1621945379036934e-06-0.0007782234158069996j)\n",
      "\n",
      "         R\n",
      "--------------------\n",
      "Calculated: (-0.999999749931812-0.0007071549515357224j)\n",
      "Expected:   (-0.9999996443668755-0.000325012441220488j)\n",
      "\n",
      "        s^2\n",
      "--------------------\n",
      "Calculated: 6.818804968222099e-11\n",
      "Expected:   6.056330356064581e-07\n",
      "\n",
      "        r^2\n",
      "--------------------\n",
      "Calculated: 0.9999999999318119\n",
      "Expected:   0.9999993943669645\n",
      "\n",
      "|s| ** 2 + |r| ** 2:\n",
      "--------------------\n",
      "Calculated: 0.9999999999999999\n",
      "Expected:   1.0\n",
      "\n",
      "\n",
      "\n",
      "\n",
      "\n",
      "Energy = 1e-08\n",
      "\n",
      "         S\n",
      "--------------------\n",
      "Calculated: (-9.176306008384927e-07-8.25730738953645e-05j)\n",
      "Expected:   (-0.000116214516132404-0.007781172368310972j)\n",
      "\n",
      "         R\n",
      "--------------------\n",
      "Calculated: (-0.9999749931810159-0.007071505742953548j)\n",
      "Expected:   (-0.9999644389617348-0.0032497173267219417j)\n",
      "\n",
      "        s^2\n",
      "--------------------\n",
      "Calculated: 6.819154578448923e-09\n",
      "Expected:   6.0560149239126065e-05\n",
      "\n",
      "        r^2\n",
      "--------------------\n",
      "Calculated: 0.9999999931808454\n",
      "Expected:   0.9999394398507605\n",
      "\n",
      "|s| ** 2 + |r| ** 2:\n",
      "--------------------\n",
      "Calculated: 1.0\n",
      "Expected:   0.9999999999999997\n",
      "\n",
      "\n",
      "\n",
      "\n",
      "\n",
      "Energy = 1e-06\n",
      "\n",
      "         S\n",
      "--------------------\n",
      "Calculated: (-9.179929321589952e-05-0.0008227966634795081j)\n",
      "Expected:   (-0.011572062898674951-0.07675169985797997j)\n",
      "\n",
      "         R\n",
      "--------------------\n",
      "Calculated: (-0.997499316292094-0.07067127121642411j)\n",
      "Expected:   (-0.9964664300041899-0.032092332478087224j)\n",
      "\n",
      "        s^2\n",
      "--------------------\n",
      "Calculated: 6.854214596679496e-07\n",
      "Expected:   0.006024736070820332\n",
      "\n",
      "        r^2\n",
      "--------------------\n",
      "Calculated: 0.9999993145785404\n",
      "Expected:   0.9939752639291792\n",
      "\n",
      "|s| ** 2 + |r| ** 2:\n",
      "--------------------\n",
      "Calculated: 1.0\n",
      "Expected:   0.9999999999999996\n",
      "\n",
      "\n",
      "\n",
      "\n",
      "\n",
      "Energy = 0.0001\n",
      "\n",
      "         S\n",
      "--------------------\n",
      "Calculated: (-0.009574419423437064-0.004926162340517237j)\n",
      "Expected:   (-0.6522678150111892+0.12019776597548194j)\n",
      "\n",
      "         R\n",
      "--------------------\n",
      "Calculated: (-0.7499130475629741-0.6614487769374975j)\n",
      "Expected:   (-0.7467989260733763-0.04889333871484126j)\n",
      "\n",
      "        s^2\n",
      "--------------------\n",
      "Calculated: 0.00011593658270101917\n",
      "Expected:   0.4399008054449678\n",
      "\n",
      "        r^2\n",
      "--------------------\n",
      "Calculated: 0.9998840634172987\n",
      "Expected:   0.5600991945550322\n",
      "\n",
      "|s| ** 2 + |r| ** 2:\n",
      "--------------------\n",
      "Calculated: 0.9999999999999998\n",
      "Expected:   1.0\n",
      "\n",
      "\n",
      "\n",
      "\n",
      "\n",
      "Energy = 0.01\n",
      "\n",
      "         S\n",
      "--------------------\n",
      "Calculated: (0.7360485595215575-0.6756788627825007j)\n",
      "Expected:   (0.736048559521556-0.675678862782502j)\n",
      "\n",
      "         R\n",
      "--------------------\n",
      "Calculated: (0.04057421796449051+0.006657721213532586j)\n",
      "Expected:   (0.04057421796449036+0.00665772121353262j)\n",
      "\n",
      "        s^2\n",
      "--------------------\n",
      "Calculated: 0.998309407584813\n",
      "Expected:   0.9983094075848128\n",
      "\n",
      "        r^2\n",
      "--------------------\n",
      "Calculated: 0.0016905924151871064\n",
      "Expected:   0.0016905924151870944\n",
      "\n",
      "|s| ** 2 + |r| ** 2:\n",
      "--------------------\n",
      "Calculated: 1.0000000000000002\n",
      "Expected:   0.9999999999999999\n"
     ]
    }
   ],
   "source": [
    "energies = np.logspace(-10, -2, 5)\n",
    "\n",
    "for E in energies:\n",
    "    k0 = calculate_k(E)\n",
    "    if E > V_0:\n",
    "        k1 = calculate_k_prime(E)\n",
    "    else:\n",
    "        k1 = calculate_kappa(E)\n",
    "\n",
    "    calculated_s, calculated_r = calculate_s_and_r(E)\n",
    "    expected_s = calculate_s(k0, k1)\n",
    "    expected_r = calculate_r(k0, k1)\n",
    "    print(f\"Energy = {E}\")\n",
    "    print()\n",
    "    print(\"         S\")\n",
    "    print(\"--------------------\")\n",
    "    print(\"Calculated:\", calculated_s)\n",
    "    print(\"Expected:  \", expected_s)\n",
    "    print()\n",
    "    print(\"         R\")\n",
    "    print(\"--------------------\")\n",
    "    print(\"Calculated:\", calculated_r)\n",
    "    print(\"Expected:  \", expected_r)\n",
    "    print()\n",
    "    print(\"        s^2\")\n",
    "    print(\"--------------------\")\n",
    "    print(\"Calculated:\", abs(calculated_s) ** 2)\n",
    "    print(\"Expected:  \", abs(expected_s) ** 2)\n",
    "    print()\n",
    "    print(\"        r^2\")\n",
    "    print(\"--------------------\")\n",
    "    print(\"Calculated:\", abs(calculated_r) ** 2)\n",
    "    print(\"Expected:  \", abs(expected_r) ** 2)\n",
    "    print()\n",
    "    print(\"|s| ** 2 + |r| ** 2:\")\n",
    "    print(\"--------------------\")\n",
    "    print(\"Calculated:\", abs(calculated_s) ** 2 + abs(calculated_r) ** 2)\n",
    "    print(\"Expected:  \", abs(expected_s) ** 2 + abs(expected_r) ** 2)\n",
    "    if E != energies[-1]:\n",
    "        print()\n",
    "        print()\n",
    "        print()\n",
    "        print()\n",
    "        print()"
   ]
  },
  {
   "cell_type": "markdown",
   "id": "59ac51bb",
   "metadata": {},
   "source": [
    "## Comparing My Results to Wikipedia Graphically\n",
    "\n",
    "As the last part of this assignment, I'll make plots of $|S|^{2}$ vs. $E$ and $|R|^{2}$ vs. $E$ for both my code and what is expected from Wikipedia. Qualitatively, both my code and Wikipedia give very simililar results, which are intuitive; as particle energy increases, the probability of transmission through the barrier increases ($|S|^{2}$ gets closer to 1); conversely, as particle energy decreases, the probability of reflection off the barrier increases ($|R|^{2}$ gets closer to 1)."
   ]
  },
  {
   "cell_type": "code",
   "execution_count": 14,
   "id": "f6f92d84",
   "metadata": {},
   "outputs": [],
   "source": [
    "energies = np.logspace(-10, -2, 100)\n",
    "S = []\n",
    "R = []\n",
    "S_expected = []\n",
    "R_expected = []\n",
    "\n",
    "for E in energies:\n",
    "    k0 = calculate_k(E)\n",
    "    if E > V_0:\n",
    "        k1 = calculate_k_prime(E)\n",
    "    else:\n",
    "        k1 = calculate_kappa(E)\n",
    "        \n",
    "    s, r = calculate_s_and_r(E)\n",
    "    S.append(abs(s) ** 2)\n",
    "    R.append(abs(r) ** 2)\n",
    "    \n",
    "    S_expected.append(abs(calculate_s(k0, k1)) ** 2)\n",
    "    R_expected.append(abs(calculate_r(k0, k1)) ** 2)"
   ]
  },
  {
   "cell_type": "markdown",
   "id": "18e61306",
   "metadata": {},
   "source": [
    "### $|S|^{2}$ v.s. $E$ Using My Code"
   ]
  },
  {
   "cell_type": "code",
   "execution_count": 15,
   "id": "fd55a743",
   "metadata": {},
   "outputs": [
    {
     "data": {
      "text/plain": [
       "[<matplotlib.lines.Line2D at 0x7fabf05a3a00>]"
      ]
     },
     "execution_count": 15,
     "metadata": {},
     "output_type": "execute_result"
    },
    {
     "data": {
      "image/png": "[encoded data removed]",
      "text/plain": [
       "<Figure size 640x480 with 1 Axes>"
      ]
     },
     "metadata": {},
     "output_type": "display_data"
    }
   ],
   "source": [
    "plt.xlabel(\"Energy\")\n",
    "plt.ylabel(\"S^2 Calculated\")\n",
    "plt.plot(energies, S)"
   ]
  },
  {
   "cell_type": "markdown",
   "id": "adfb01b3",
   "metadata": {},
   "source": [
    "### $|S|^{2}$ v.s. $E$ Using Wikipedia"
   ]
  },
  {
   "cell_type": "code",
   "execution_count": 16,
   "id": "e065e38d",
   "metadata": {},
   "outputs": [
    {
     "data": {
      "text/plain": [
       "[<matplotlib.lines.Line2D at 0x7fabe08d0340>]"
      ]
     },
     "execution_count": 16,
     "metadata": {},
     "output_type": "execute_result"
    },
    {
     "data": {
      "image/png": "[encoded data removed]",
      "text/plain": [
       "<Figure size 640x480 with 1 Axes>"
      ]
     },
     "metadata": {},
     "output_type": "display_data"
    }
   ],
   "source": [
    "plt.xlabel(\"Energy\")\n",
    "plt.ylabel(\"S^2 Expected\")\n",
    "plt.plot(energies, S_expected)"
   ]
  },
  {
   "cell_type": "markdown",
   "id": "b0834859",
   "metadata": {},
   "source": [
    "### $|R|^{2}$ v.s. $E$ Using My Code"
   ]
  },
  {
   "cell_type": "code",
   "execution_count": 17,
   "id": "395fa1e8",
   "metadata": {},
   "outputs": [
    {
     "data": {
      "text/plain": [
       "[<matplotlib.lines.Line2D at 0x7fabf074f940>]"
      ]
     },
     "execution_count": 17,
     "metadata": {},
     "output_type": "execute_result"
    },
    {
     "data": {
      "image/png": "[encoded data removed]",
      "text/plain": [
       "<Figure size 640x480 with 1 Axes>"
      ]
     },
     "metadata": {},
     "output_type": "display_data"
    }
   ],
   "source": [
    "plt.xlabel(\"Energy\")\n",
    "plt.ylabel(\"R^2 Calculated\")\n",
    "plt.plot(energies, R)"
   ]
  },
  {
   "cell_type": "markdown",
   "id": "12aaa5fa",
   "metadata": {},
   "source": [
    "### $|R|^{2}$ v.s. $E$ Using Wikipedia"
   ]
  },
  {
   "cell_type": "code",
   "execution_count": 18,
   "id": "306daa12",
   "metadata": {},
   "outputs": [
    {
     "data": {
      "text/plain": [
       "[<matplotlib.lines.Line2D at 0x7fabb0b44130>]"
      ]
     },
     "execution_count": 18,
     "metadata": {},
     "output_type": "execute_result"
    },
    {
     "data": {
      "image/png": "[encoded data removed]",
      "text/plain": [
       "<Figure size 640x480 with 1 Axes>"
      ]
     },
     "metadata": {},
     "output_type": "display_data"
    }
   ],
   "source": [
    "plt.xlabel(\"Energy\")\n",
    "plt.ylabel(\"R^2 Expected\")\n",
    "plt.plot(energies, R_expected)"
   ]
  }
 ],
 "metadata": {
  "kernelspec": {
   "display_name": "Python 3 (ipykernel)",
   "language": "python",
   "name": "python3"
  },
  "language_info": {
   "codemirror_mode": {
    "name": "ipython",
    "version": 3
   },
   "file_extension": ".py",
   "mimetype": "text/x-python",
   "name": "python",
   "nbconvert_exporter": "python",
   "pygments_lexer": "ipython3",
   "version": "3.8.13"
  }
 },
 "nbformat": 4,
 "nbformat_minor": 5
}

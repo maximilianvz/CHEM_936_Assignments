{
 "cells": [
  {
   "cell_type": "markdown",
   "id": "313b158c",
   "metadata": {},
   "source": [
    "## Foreword\n",
    "\n",
    "In this fourth and final assignment, I'll use the discrete variable representation (DVR) method to calculate the energy levels for multiple 1D quantum systems. Specifically, Sine DVR will be employed, which uses the particle-in-a-box (PIAB) eigenfunctions as a basis. I shall compare my calculated energies to known results for the PIAB, harmonic oscillator, and Morse oscillator problems to demonstrate that my code works as expected. Most equations and theory related to DVR in this notebook are made with reference to the appendix of [The multiconfiguration time-dependent Hartree (MCTDH) method: a highly efficient algorithm for propagating wavepackets](https://www.sciencedirect.com/science/article/abs/pii/S0370157399000472) by Beck *et. al.*\n",
    "\n",
    "First, I'll import required packages/modules and create some variables that will be used throughout my calculations."
   ]
  },
  {
   "cell_type": "code",
   "execution_count": 1,
   "id": "61561893",
   "metadata": {},
   "outputs": [],
   "source": [
    "import numpy as np\n",
    "np.set_printoptions(suppress=True)\n",
    "import matplotlib.pyplot as plt"
   ]
  },
  {
   "cell_type": "markdown",
   "id": "1e4dab9b",
   "metadata": {},
   "source": [
    "Here, I'll define some global variables for use throughout my calculations. For simplicity's sake, I will set the mass (or reduced mass) of each system I am dealing with to 1. "
   ]
  },
  {
   "cell_type": "code",
   "execution_count": 2,
   "id": "5d61dc27",
   "metadata": {},
   "outputs": [],
   "source": [
    "x_0 = -5 # starting grid point\n",
    "L = 10 # length of grid\n",
    "pi = np.pi\n",
    "h_bar = 1\n",
    "mass = 1"
   ]
  },
  {
   "cell_type": "markdown",
   "id": "07a4b9f3",
   "metadata": {},
   "source": [
    "The function below calculates the Kronecker delta, $\\delta_{jk}$, which will be used to create some matrices later."
   ]
  },
  {
   "cell_type": "code",
   "execution_count": 3,
   "id": "55b270f2",
   "metadata": {},
   "outputs": [],
   "source": [
    "def kronecker_delta(j, k):\n",
    "    if j == k:\n",
    "        return 1\n",
    "    return 0"
   ]
  },
  {
   "cell_type": "markdown",
   "id": "f89954ae",
   "metadata": {},
   "source": [
    "I have elected to use 100 basis functions for my calculations."
   ]
  },
  {
   "cell_type": "code",
   "execution_count": 4,
   "id": "9b729b4a",
   "metadata": {},
   "outputs": [],
   "source": [
    "# number of basis functions\n",
    "N = 100"
   ]
  },
  {
   "cell_type": "markdown",
   "id": "89f868d1",
   "metadata": {},
   "source": [
    "## Create DVR Grid"
   ]
  },
  {
   "cell_type": "markdown",
   "id": "bd36dc24",
   "metadata": {},
   "source": [
    "The first matrix I will create is the position operator matrix, $Q$, which I have done according to B.59."
   ]
  },
  {
   "cell_type": "code",
   "execution_count": 5,
   "id": "42c6421a",
   "metadata": {},
   "outputs": [],
   "source": [
    "Q = np.zeros((N, N))\n",
    "\n",
    "for j in range(1, N + 1):\n",
    "    for k in range(1, N + 1):\n",
    "        delta_1 = kronecker_delta(j, k + 1)\n",
    "        delta_2 = kronecker_delta(j, k - 1)\n",
    "        Q[j - 1][k - 1] = (delta_1 + delta_2) / 2"
   ]
  },
  {
   "cell_type": "markdown",
   "id": "dfe5c122",
   "metadata": {},
   "source": [
    "The next step is to diagonalize $Q$. I can choose to do this in one of two ways that give me essentially equivalent results. The first way, which is done in the next code cell, is to use NumPy's `linalg.eig` function to calculate the eigenvalues ($z$) and matrix of eigenvectors ($U$) of $Q$."
   ]
  },
  {
   "cell_type": "code",
   "execution_count": 6,
   "id": "4b8f2f62",
   "metadata": {},
   "outputs": [],
   "source": [
    "# diagonalize position operator matrix to get U and z\n",
    "z, U = np.linalg.eig(Q)"
   ]
  },
  {
   "cell_type": "markdown",
   "id": "bf46cab6",
   "metadata": {},
   "source": [
    "Alternatively, Beck *et. al.* provide analytic methods for obtaining $z$ (B.61) and $U$ (B.60), which I have implemented below for demonstrative purposes. One can validate that `z` = `z_analytic` and `U` = `U_analytic`, but I will choose to use NumPy diagonalization from here on out."
   ]
  },
  {
   "cell_type": "code",
   "execution_count": 7,
   "id": "e8f2691e",
   "metadata": {},
   "outputs": [],
   "source": [
    "# this code block is just for demonstration purposes\n",
    "# these are the analytic ways of diagonalizing Q (eqs. B.60 and B.61)\n",
    "U_analytic = np.zeros((N, N))\n",
    "\n",
    "for j in range(1, N + 1):\n",
    "    for a in range(1, N + 1):\n",
    "        U_analytic[j - 1][a - 1] = (2 / (N + 1)) ** 0.5 * np.sin(j * a * pi / (N + 1))\n",
    "        \n",
    "z_analytic = np.cos(np.arange(1, N + 1) * pi / (N + 1))"
   ]
  },
  {
   "cell_type": "markdown",
   "id": "8d9b65b1",
   "metadata": {},
   "source": [
    "Now, I can create my DVR grid using B.62. I can do this by explicitly using $z$ (i.e., with the form of $x_{\\alpha}$ involving $arccos(z_{\\alpha})$) or by using $\\Delta x=\\frac{L}{N + 1}$, where $L$ is the length of the grid and $N$ is the number of basis functions. The latter method is achieved by recognizing that $z$ is related to $x$ via B.58. In the code cell below, I'll use the \"$\\Delta x$\" method, but I verify that this yields the same grid as the \"$z$\" method. In either case, my grid falls in the range of (-5, 5), because I chose $x_{0}=-5$ and $L=10$."
   ]
  },
  {
   "cell_type": "code",
   "execution_count": 8,
   "id": "04d44662",
   "metadata": {},
   "outputs": [
    {
     "name": "stdout",
     "output_type": "stream",
     "text": [
      "Grid Created Using delta_x\n",
      "--------------------------\n",
      "\n",
      "[-4.900990099009901, -4.801980198019802, -4.702970297029703, -4.603960396039604, -4.5049504950495045, -4.405940594059405, -4.306930693069307, -4.207920792079208, -4.108910891089109, -4.00990099009901, -3.910891089108911, -3.8118811881188117, -3.7128712871287126, -3.6138613861386135, -3.514851485148515, -3.4158415841584158, -3.3168316831683167, -3.217821782178218, -3.118811881188119, -3.01980198019802, -2.9207920792079207, -2.8217821782178216, -2.7227722772277225, -2.6237623762376234, -2.5247524752475248, -2.4257425742574257, -2.3267326732673266, -2.2277227722772275, -2.1287128712871284, -2.0297029702970297, -1.9306930693069306, -1.8316831683168315, -1.7326732673267324, -1.6336633663366333, -1.5346534653465347, -1.4356435643564356, -1.3366336633663365, -1.2376237623762374, -1.1386138613861383, -1.0396039603960396, -0.9405940594059405, -0.8415841584158414, -0.7425742574257423, -0.6435643564356432, -0.5445544554455441, -0.44554455445544505, -0.34653465346534595, -0.24752475247524686, -0.14851485148514865, -0.04950495049504955, 0.04950495049504955, 0.14851485148514865, 0.24752475247524774, 0.34653465346534684, 0.44554455445544594, 0.544554455445545, 0.6435643564356441, 0.7425742574257432, 0.8415841584158414, 0.9405940594059405, 1.0396039603960396, 1.1386138613861387, 1.2376237623762378, 1.336633663366337, 1.435643564356436, 1.5346534653465351, 1.6336633663366342, 1.7326732673267333, 1.8316831683168324, 1.9306930693069306, 2.0297029702970297, 2.128712871287129, 2.227722772277228, 2.326732673267327, 2.425742574257426, 2.524752475247525, 2.6237623762376243, 2.7227722772277234, 2.8217821782178225, 2.9207920792079207, 3.01980198019802, 3.118811881188119, 3.217821782178218, 3.316831683168317, 3.415841584158416, 3.5148514851485153, 3.6138613861386144, 3.7128712871287135, 3.8118811881188126, 3.9108910891089117, 4.009900990099011, 4.10891089108911, 4.207920792079209, 4.306930693069308, 4.405940594059407, 4.504950495049506, 4.603960396039604, 4.702970297029703, 4.801980198019802, 4.900990099009901]\n",
      "\n",
      "Grid Created Using z\n",
      "--------------------\n",
      "\n",
      "[-4.900990099010073, -4.801980198019898, -4.702970297029772, -4.60396039603952, -4.504950495049438, -4.405940594059432, -4.306930693069256, -4.207920792079227, -4.108910891089128, -4.009900990099, -3.9108910891089153, -3.811881188118775, -3.71287128712874, -3.6138613861386055, -3.5148514851485286, -3.4158415841584095, -3.3168316831683256, -3.2178217821782296, -3.1188118811881296, -3.0198019801980323, -2.920792079207921, -2.8217821782178243, -2.7227722772277207, -2.623762376237621, -2.5247524752475305, -2.425742574257433, -2.326732673267333, -2.227722772277229, -2.128712871287132, -2.02970297029702, -1.9306930693069289, -1.8316831683168266, -1.7326732673267258, -1.6336633663366333, -1.534653465346533, -1.435643564356433, -1.3366336633663356, -1.2376237623762378, -1.1386138613861352, -1.0396039603960383, -0.9405940594059397, -0.8415841584158414, -0.742574257425745, -0.6435643564356459, -0.5445544554455441, -0.44554455445544505, -0.3465346534653442, -0.24752475247524863, -0.14851485148514776, -0.04950495049504866, 0.049504950495051325, 0.14851485148514865, 0.24752475247524952, 0.3465346534653486, 0.44554455445544683, 0.5445544554455477, 0.6435643564356415, 0.7425742574257415, 0.8415841584158379, 0.940594059405937, 1.0396039603960414, 1.1386138613861387, 1.2376237623762405, 1.3366336633663405, 1.4356435643564387, 1.5346534653465467, 1.6336633663366396, 1.7326732673267422, 1.8316831683168289, 1.9306930693069306, 2.029702970297029, 2.1287128712871244, 2.227722772277228, 2.3267326732673332, 2.425742574257419, 2.5247524752475243, 2.6237623762376217, 2.722772277227717, 2.82178217821782, 2.920792079207919, 3.0198019801980376, 3.1188118811881296, 3.217821782178234, 3.3168316831683047, 3.4158415841583967, 3.514851485148517, 3.6138613861386197, 3.7128712871286975, 3.811881188118834, 3.910891089108901, 4.009900990099016, 4.108910891089074, 4.207920792079218, 4.306930693069285, 4.405940594059416, 4.50495049504951, 4.603960396039664, 4.70297029702971, 4.8019801980198515, 4.900990099009972]\n",
      "\n",
      "Both methods of calculating the grid are equivalent!\n"
     ]
    }
   ],
   "source": [
    "# create grid\n",
    "# note that you'll have as many grid points as basis functions\n",
    "alphas = np.arange(1, z.shape[0] + 1)\n",
    "delta_x = L / (N + 1)\n",
    "grid = x_0 + alphas * delta_x\n",
    "\n",
    "# verify that creating grid with delta_x and z give the same result\n",
    "if np.allclose(grid, sorted(x_0 + L / pi * np.arccos(z))):\n",
    "    print(\"Grid Created Using delta_x\")\n",
    "    print(\"--------------------------\")\n",
    "    print()\n",
    "    print(list(grid))\n",
    "    print()\n",
    "    print(\"Grid Created Using z\")\n",
    "    print(\"--------------------\")\n",
    "    print()\n",
    "    print(sorted(x_0 + L / pi * np.arccos(z)))\n",
    "    print()\n",
    "    print(\"Both methods of calculating the grid are equivalent!\")"
   ]
  },
  {
   "cell_type": "markdown",
   "id": "665514b9",
   "metadata": {},
   "source": [
    "## Calculate Kinetic Energy Matrix, $T$"
   ]
  },
  {
   "cell_type": "markdown",
   "id": "19895769",
   "metadata": {},
   "source": [
    "Beck *et. al.* provide two ways of calculating the second derivative matrix in Sine DVR. Equation B.57 gives us the finite basis representation (FBR) of the second derivative matrix, $D^{FBR}$, which I will implement in the next code cell."
   ]
  },
  {
   "cell_type": "code",
   "execution_count": 9,
   "id": "d7b68728",
   "metadata": {},
   "outputs": [],
   "source": [
    "D2_FBR = np.zeros((N, N))\n",
    "            \n",
    "for j in range(1, N + 1):\n",
    "    for k in range(1, N + 1):\n",
    "        if j == k:\n",
    "            D2_FBR[j - 1][k - 1] = -kronecker_delta(j, k) * ((j * pi) / L) ** 2\n",
    "        else:\n",
    "            D2_FBR[j - 1][k - 1] = 0"
   ]
  },
  {
   "cell_type": "markdown",
   "id": "2f5669ed",
   "metadata": {},
   "source": [
    "However, B.65 is also provided, which gives us a way to calculate the second derivative matrix in the discrete variable representation, $D^{DVR}$. I calculate this matrix below (fixing the signage error in the textbook on the 1/3 term):"
   ]
  },
  {
   "cell_type": "code",
   "execution_count": 10,
   "id": "efef1f23",
   "metadata": {},
   "outputs": [],
   "source": [
    "D2_DVR = np.zeros((N, N))\n",
    "\n",
    "for a in alphas:\n",
    "    for b in alphas:\n",
    "        if a == b:\n",
    "            D2_DVR[a - 1][b - 1] = -(pi / delta_x) ** 2 * ((1 / 3) + (1 / (6 * (N + 1) ** 2)) - (1 / (2 * (N + 1) ** 2 * np.sin((a * pi) / (N + 1)) ** 2)))\n",
    "        else:\n",
    "            D2_DVR[a - 1][b - 1] = -(pi / delta_x) ** 2 * (((2 * (-1) ** abs(a - b)) / (N + 1) ** 2) * ((np.sin(a * pi / (N + 1)) * np.sin(b * pi / (N + 1))) / (np.cos(a * pi / (N + 1)) - np.cos(b * pi / (N + 1))) ** 2))"
   ]
  },
  {
   "cell_type": "markdown",
   "id": "1ab38961",
   "metadata": {},
   "source": [
    "Now that I have the second derivative matrix (in both finite basis representation and DVR representations), I can calculate the kinetic energy matrix. I would also like to show that:\n",
    "\n",
    "- Calculating $T^{FBR}$ from $D^{FBR}$ is very simple: all I have to do is multiply the matrix elements of $D^{FBR}$ by $\\frac{-\\hbar^{2}}{2m}$\n",
    "\n",
    "- Calculating $T^{FBR}$ from $D^{DVR}$ is a bit more involved: first, you can obtain $T^{DVR}$ by multiplying $D^{DVR}$ by $\\frac{-\\hbar^{2}}{2m}$ as above; then, you can get $T^{FBR}$ by diagonalizing $T^{DVR}$ ($T^{FBR}$ is the diagonal matrix of eigenvalues of $T^{DVR}$ - see B.18)\n",
    "\n",
    "In the code cell below, I'll show that both methods of calculating $T^{FBR}$ give the same result."
   ]
  },
  {
   "cell_type": "code",
   "execution_count": 11,
   "id": "9cf9da79",
   "metadata": {},
   "outputs": [
    {
     "name": "stdout",
     "output_type": "stream",
     "text": [
      "T_FBR corresponds to eigenvalues of T_DVR? True\n"
     ]
    }
   ],
   "source": [
    "# calculate kinetic energy matrix in FBR\n",
    "T_FBR = - (h_bar ** 2) / (2 * mass) * D2_FBR\n",
    "\n",
    "# calculate kinetic energy matrix in DVR\n",
    "T_DVR = - (h_bar ** 2) / (2 * mass) * D2_DVR\n",
    "\n",
    "# diagonalize T_DVR and show that eigenvalue matrix is T_FBR\n",
    "# eigenvalues of T_DVR are sorted(E_T_DVR)\n",
    "# diagonal elements of T_FBR are list(np.diag(T_FBR))\n",
    "# use np.allclose to assert that these two lists of numbers are same\n",
    "E_T_DVR, _ = np.linalg.eig(T_DVR)\n",
    "print(\"T_FBR corresponds to eigenvalues of T_DVR?\", np.allclose(sorted(E_T_DVR), list(np.diag(T_FBR))))"
   ]
  },
  {
   "cell_type": "markdown",
   "id": "75b8482f",
   "metadata": {},
   "source": [
    "## PIAB\n",
    "\n",
    "As we know, the PIAB Hamiltonian is very simple, just consisting of a kinetic energy term: $H=\\frac{-\\hbar}{2m}\\frac{d^{2}}{dx^{2}}\\psi(x)$\n",
    "\n",
    "This means that the Hamiltonian matrix for this problem is just the kinetic energy matrix, which we have calculated above. Below, I demonstrate that diagonalizing $T^{DVR}$ to get its eigenvalues yields the energy levels for a PIAB, $E_{n}=\\frac{n^{2}\\hbar^{2}\\pi^{2}}{2mL^2}$"
   ]
  },
  {
   "cell_type": "code",
   "execution_count": 12,
   "id": "9b9288e2",
   "metadata": {},
   "outputs": [
    {
     "name": "stdout",
     "output_type": "stream",
     "text": [
      "Analytical Energy Levels (n = 1 to n = 100)\n",
      "-------------------------------------------\n",
      "\n",
      "[  0.04934802   0.19739209   0.4441322    0.78956835   1.23370055\n",
      "   1.77652879   2.41805308   3.15827341   3.99718978   4.9348022\n",
      "   5.97111066   7.10611517   8.33981572   9.67221231  11.10330495\n",
      "  12.63309363  14.26157836  15.98875913  17.81463594  19.7392088\n",
      "  21.7624777   23.88444265  26.10510364  28.42446068  30.84251375\n",
      "  33.35926288  35.97470804  38.68884925  41.50168651  44.4132198\n",
      "  47.42344915  50.53237453  53.73999596  57.04631344  60.45132696\n",
      "  63.95503652  67.55744213  71.25854378  75.05834147  78.95683521\n",
      "  82.95402499  87.04991082  91.24449269  95.5377706   99.92974456\n",
      " 104.42041456 109.00978061 113.6978427  118.48460084 123.37005501\n",
      " 128.35420524 133.4370515  138.61859381 143.89883217 149.27776657\n",
      " 154.75539701 160.3317235  166.00674603 171.7804646  177.65287922\n",
      " 183.62398988 189.69379659 195.86229934 202.12949813 208.49539297\n",
      " 214.95998386 221.52327078 228.18525375 234.94593277 241.80530783\n",
      " 248.76337893 255.82014608 262.97560927 270.2297685  277.58262378\n",
      " 285.0341751  292.58442247 300.23336588 307.98100534 315.82734083\n",
      " 323.77237238 331.81609996 339.9585236  348.19964327 356.53945899\n",
      " 364.97797075 373.51517856 382.15108241 390.88568231 399.71897824\n",
      " 408.65097023 417.68165825 426.81104233 436.03912244 445.3658986\n",
      " 454.7913708  464.31553905 473.93840334 483.65996368 493.48022005]\n",
      "\n",
      "Eigenvalues of T_DVR\n",
      "--------------------\n",
      "\n",
      "[0.04934802200541618, 0.19739208802173083, 0.4441321980490025, 0.7895683520871234, 1.2337005501361606, 1.7765287921960646, 2.4180530782668357, 3.1582734083485926, 3.9971897824411826, 4.934802200544804, 5.971110662659186, 7.106115168784481, 8.339815718920674, 9.672212313067696, 11.10330495122564, 12.633093633394301, 14.261578359574198, 15.98875912976497, 17.81463594396653, 19.739208802178812, 21.762477704402194, 23.884442650636263, 26.10510364088157, 28.42446067513739, 30.842513753404248, 33.35926287568204, 35.97470804197085, 38.68884925227022, 41.50168650658085, 44.41321980490233, 47.42344914723464, 50.53237453357753, 53.73999596393159, 57.046313438296764, 60.45132695667295, 63.95503651905962, 67.55744212545717, 71.25854377586609, 75.05834147028483, 78.9568352087153, 82.95402499115617, 87.04991081760868, 91.24449268807126, 95.53777060254558, 99.92974456102984, 104.42041456352649, 109.00978061003221, 113.69784270054987, 118.4846008350774, 123.37005501361678, 128.35420523616733, 133.43705150272848, 138.61859381330024, 143.89883216788286, 149.27776656647606, 154.75539700908124, 160.33172349569662, 166.00674602632276, 171.78046460095956, 177.65287921960837, 183.62398988226735, 189.69379658893794, 195.86229933961744, 202.1294981343092, 208.4953929730124, 214.9599838557262, 221.52327078244969, 228.18525375318674, 234.94593276793236, 241.80530782668905, 248.76337892945708, 255.82014607623597, 262.9756092670252, 270.22976850182647, 277.58262378063824, 285.03417510346054, 292.5844224702937, 300.2333658811403, 307.98100533599376, 315.8273408348586, 323.77237237773653, 331.81609996462373, 339.9585235955205, 348.1996432704314, 356.5394589893545, 364.97797075228544, 373.51517855922674, 382.151082410182, 390.8856823051441, 399.71897824411866, 408.6509702271056, 417.6816582541013, 426.8110423251088, 436.0391224401273, 445.3658985991581, 454.79137080219715, 464.31553904924624, 473.9384033403086, 483.65996367538236, 493.4802200544681]\n",
      "\n",
      "Diagonalizing T_DVR yields the PIAB energy levels!\n"
     ]
    }
   ],
   "source": [
    "# calculate PIAB energy levels analytically\n",
    "analytical_energy_levels = np.arange(1, N + 1) ** 2 * pi ** 2 * h_bar ** 2 / (2 * mass * L ** 2)\n",
    "\n",
    "if np.allclose(analytical_energy_levels, sorted(E_T_DVR)):\n",
    "    print(\"Analytical Energy Levels (n = 1 to n = 100)\")\n",
    "    print(\"-------------------------------------------\")\n",
    "    print()\n",
    "    print(analytical_energy_levels)\n",
    "    print()\n",
    "    print(\"Eigenvalues of T_DVR\")\n",
    "    print(\"--------------------\")\n",
    "    print()\n",
    "    print(sorted(E_T_DVR))\n",
    "    print()\n",
    "    print(\"Diagonalizing T_DVR yields the PIAB energy levels!\")"
   ]
  },
  {
   "cell_type": "markdown",
   "id": "99ea6eb5",
   "metadata": {},
   "source": [
    "## Harmonic Oscillator\n",
    "\n",
    "The harmonic oscillator Hamiltonian is $H=\\frac{-\\hbar^2}{2m}\\frac{d^2}{dx^2}\\psi(x) + \\frac{1}{2}kx^2\\psi(x)$\n",
    "\n",
    "Now, we are dealing with a potential energy term in addition to a kinetic energy term, which is where DVR really shines. This will necessitate that we calculate $V^{DVR}$, which can be done as per B.20. Then, I can obtain my Hamiltonian matrix using $V^{DVR}$ and $T^{DVR}$ from before, from which I can get my energy levels. First, though, I need to define a harmonic oscillator potential (note that, for simplicity, I will assume the force constant, $k$, is equal to 1):"
   ]
  },
  {
   "cell_type": "code",
   "execution_count": 13,
   "id": "9bbc301c",
   "metadata": {},
   "outputs": [],
   "source": [
    "def harmonic_oscillator_potential(k, x):\n",
    "    return 0.5 * k * x ** 2\n",
    "\n",
    "V_harmonic = harmonic_oscillator_potential(1, grid)"
   ]
  },
  {
   "cell_type": "markdown",
   "id": "226fe238",
   "metadata": {},
   "source": [
    "We can plot our harmonic oscillator potential along our grid:"
   ]
  },
  {
   "cell_type": "code",
   "execution_count": 14,
   "id": "8b5a21fa",
   "metadata": {},
   "outputs": [
    {
     "data": {
      "text/plain": [
       "[<matplotlib.lines.Line2D at 0x7fd3d80cd6d0>]"
      ]
     },
     "execution_count": 14,
     "metadata": {},
     "output_type": "execute_result"
    },
    {
     "data": {
      "image/png": "[encoded data removed]",
      "text/plain": [
       "<Figure size 640x480 with 1 Axes>"
      ]
     },
     "metadata": {},
     "output_type": "display_data"
    }
   ],
   "source": [
    "plt.xlabel(\"x\")\n",
    "plt.ylabel(\"Potential\")\n",
    "plt.ylim(0, 10)\n",
    "plt.plot(grid, V_harmonic, 'black')"
   ]
  },
  {
   "cell_type": "markdown",
   "id": "ac71b62e",
   "metadata": {},
   "source": [
    "Below is my implementation of B.20:"
   ]
  },
  {
   "cell_type": "code",
   "execution_count": 15,
   "id": "61210da8",
   "metadata": {},
   "outputs": [],
   "source": [
    "# implement B.20\n",
    "V_DVR_harmonic = np.zeros((N, N))\n",
    "\n",
    "for a in range(1, N + 1):\n",
    "    for b in range(1, N + 1):\n",
    "        V_DVR_harmonic[a - 1][b - 1] = V_harmonic[a - 1] * kronecker_delta(a, b)"
   ]
  },
  {
   "cell_type": "markdown",
   "id": "45504efe",
   "metadata": {},
   "source": [
    " Here, I'll calculate my Hamiltonian matrix and diagonalize it to obtain its eigenvalues:"
   ]
  },
  {
   "cell_type": "code",
   "execution_count": 16,
   "id": "cd64b00f",
   "metadata": {},
   "outputs": [],
   "source": [
    "H_harmonic = T_DVR + V_DVR_harmonic\n",
    "\n",
    "E_harmonic, _ = np.linalg.eig(H_harmonic)"
   ]
  },
  {
   "cell_type": "markdown",
   "id": "0439dd2b",
   "metadata": {},
   "source": [
    "The analytical expression for the harmonic oscillator energy levels is $E_n = (n + \\frac{1}{2})\\hbar \\omega=(n + \\frac{1}{2})\\hbar\\sqrt{\\frac{k}{m}}$. Recall that I've set $k$ and $m$ to 1, so $\\omega$ is also equal to 1. Thus, the energy levels for our harmonic oscillator example should be $E_n = (n + \\frac{1}{2})$. I will demonstrate that my code works properly by overlaying my first 10 calculated energy levels on the potential of my system. As you can see, this generates a familiar picture of the harmonic oscillator energy levels:"
   ]
  },
  {
   "cell_type": "code",
   "execution_count": 17,
   "id": "eb4308eb",
   "metadata": {},
   "outputs": [
    {
     "data": {
      "image/png": "[encoded data removed]",
      "text/plain": [
       "<Figure size 640x480 with 1 Axes>"
      ]
     },
     "metadata": {},
     "output_type": "display_data"
    }
   ],
   "source": [
    "fig = plt.figure()\n",
    "ax = plt.subplot(111)\n",
    "\n",
    "for i in range(10):\n",
    "    ax.plot(grid, np.full(N, sorted(E_harmonic)[i]), label=f\"n={i}\")\n",
    "\n",
    "ax.plot(grid, V_harmonic, 'black')\n",
    "\n",
    "box = ax.get_position()\n",
    "ax.set_position([box.x0, box.y0, box.width * 0.8, box.height])\n",
    "\n",
    "ax.legend(loc='center left', bbox_to_anchor=(1, 0.5))\n",
    "\n",
    "ax.set_ylim(0, 10)\n",
    "ax.set_xlabel('x')\n",
    "ax.set_ylabel('Energy')\n",
    "\n",
    "plt.show()"
   ]
  },
  {
   "cell_type": "markdown",
   "id": "0e35a92a",
   "metadata": {},
   "source": [
    "## Morse Oscillator\n",
    "\n",
    "Now, let's work with a Morse oscillator. First, I'll redefine my grid, because it is unphysical to look at regions where $x$ < 0 with this type of potential."
   ]
  },
  {
   "cell_type": "code",
   "execution_count": 18,
   "id": "dc3580b6",
   "metadata": {},
   "outputs": [],
   "source": [
    "x_0 = 0 # starting grid point\n",
    "L = 20 # length of grid\n",
    "\n",
    "alphas = np.arange(1, z.shape[0] + 1)\n",
    "delta_x = L / (N + 1)\n",
    "grid = x_0 + alphas * delta_x"
   ]
  },
  {
   "cell_type": "code",
   "execution_count": 19,
   "id": "23211c32",
   "metadata": {},
   "outputs": [],
   "source": [
    "De = 20\n",
    "alpha = 1\n",
    "re = 7.1053\n",
    "\n",
    "def morse_potential(r):\n",
    "    return De * (np.exp(-2 * alpha * (r - re)) - 2 * np.exp(-alpha * (r - re)))\n",
    "\n",
    "V_morse = morse_potential(grid)"
   ]
  },
  {
   "cell_type": "markdown",
   "id": "5c4a9a7f",
   "metadata": {},
   "source": [
    "Here's what our Morse potential looks like:"
   ]
  },
  {
   "cell_type": "code",
   "execution_count": 20,
   "id": "bf925c38",
   "metadata": {},
   "outputs": [
    {
     "data": {
      "text/plain": [
       "(5.5, 20.0)"
      ]
     },
     "execution_count": 20,
     "metadata": {},
     "output_type": "execute_result"
    },
    {
     "data": {
      "image/png": "[encoded data removed]",
      "text/plain": [
       "<Figure size 640x480 with 1 Axes>"
      ]
     },
     "metadata": {},
     "output_type": "display_data"
    }
   ],
   "source": [
    "plt.plot(grid, V_morse, 'black')\n",
    "plt.ylabel('Potential')\n",
    "plt.xlabel('x')\n",
    "plt.ylim(-20, 7)\n",
    "plt.xlim(5.5, 20)"
   ]
  },
  {
   "cell_type": "markdown",
   "id": "0597f222",
   "metadata": {},
   "source": [
    "Now, I'll go through the familiar process of calculating my Hamiltonian matrix in the DVR representation and diagonalizing it to get my energy levels."
   ]
  },
  {
   "cell_type": "code",
   "execution_count": 21,
   "id": "972ea751",
   "metadata": {},
   "outputs": [],
   "source": [
    "# implement B.20\n",
    "V_DVR_morse = np.zeros((N, N))\n",
    "\n",
    "for a in range(1, N + 1):\n",
    "    for b in range(1, N + 1):\n",
    "        V_DVR_morse[a - 1][b - 1] = V_morse[a - 1] * kronecker_delta(a, b)"
   ]
  },
  {
   "cell_type": "markdown",
   "id": "4e4641cf",
   "metadata": {},
   "source": [
    "I have recalculated my $T^{DVR}$ for this problem in accordance with [what is reported by Colbert and Miller (section A.2)](https://www.cchem.berkeley.edu/~millergrp/pdf/243.pdf). I have chosen to do this because it appears to give me more intuitive energy levels compared to when I used B.65 from Beck *et. al.*"
   ]
  },
  {
   "cell_type": "code",
   "execution_count": 22,
   "id": "05ac57fb",
   "metadata": {},
   "outputs": [],
   "source": [
    "T_DVR_morse = np.zeros((N, N))\n",
    "\n",
    "for a in range(1, N + 1):\n",
    "    for b in range(1, N + 1):\n",
    "        if a == b:\n",
    "            T_DVR_morse[a - 1][b - 1] = (h_bar ** 2 / (2 * mass * (L / N) ** 2)) * (-1) ** abs(a - b) * (pi ** 2 / 3 - 1 / (2 * a ** 2))\n",
    "        else:\n",
    "            T_DVR_morse[a - 1][b - 1] = (h_bar ** 2 / (2 * mass * (L / N) ** 2)) * (-1) ** abs(a - b) * ((2 / (a - b) ** 2) - (2 / (a + b) ** 2))"
   ]
  },
  {
   "cell_type": "code",
   "execution_count": 23,
   "id": "2b1217e2",
   "metadata": {},
   "outputs": [],
   "source": [
    "H_morse = T_DVR_morse + V_DVR_morse\n",
    "\n",
    "E_morse, _ = np.linalg.eig(H_morse)"
   ]
  },
  {
   "cell_type": "markdown",
   "id": "1503d53e",
   "metadata": {},
   "source": [
    "Finally, I'll overlay a subset of my calculated Morse oscillator energy levels on the Morse potential being dealt with. From this plot, you can see a decrease in $\\Delta E$ between energy levels as we approach the dissociation limit of the curve. This is typical of bound states of the Morse oscillator."
   ]
  },
  {
   "cell_type": "code",
   "execution_count": 24,
   "id": "99bd2b0c",
   "metadata": {},
   "outputs": [
    {
     "data": {
      "image/png": "[encoded data removed]",
      "text/plain": [
       "<Figure size 640x480 with 1 Axes>"
      ]
     },
     "metadata": {},
     "output_type": "display_data"
    }
   ],
   "source": [
    "fig = plt.figure()\n",
    "ax = plt.subplot(111)\n",
    "\n",
    "for i in range(8):\n",
    "    ax.plot(grid, np.full(N, sorted(E_morse)[i]), label=f\"n={i}\")\n",
    "\n",
    "ax.plot(grid, V_morse, 'black')\n",
    "\n",
    "box = ax.get_position()\n",
    "ax.set_position([box.x0, box.y0, box.width * 0.8, box.height])\n",
    "\n",
    "ax.legend(loc='center left', bbox_to_anchor=(1, 0.5))\n",
    "\n",
    "ax.set_xlim(5.5, 20)\n",
    "ax.set_ylim(-20, 7)\n",
    "ax.set_xlabel('x')\n",
    "ax.set_ylabel('Energy')\n",
    "\n",
    "plt.show()"
   ]
  },
  {
   "cell_type": "markdown",
   "id": "7103365e",
   "metadata": {},
   "source": [
    "As a brief aside, this is the plot that I would've gotten if I used B.65 to calculate $T^{DVR}$ rather than (A8) from Colbert and Miller. When plotting the same subset of Morse energy levels, I still get the decrease in $\\Delta E$ as $E$ approaches the dissociation limit, but it appears that some of these states are now very much unbound. "
   ]
  },
  {
   "cell_type": "code",
   "execution_count": 25,
   "id": "4f55562f",
   "metadata": {},
   "outputs": [],
   "source": [
    "H_morse = T_DVR + V_DVR_morse\n",
    "\n",
    "E_morse, _ = np.linalg.eig(H_morse)"
   ]
  },
  {
   "cell_type": "code",
   "execution_count": 26,
   "id": "dfbfb079",
   "metadata": {},
   "outputs": [
    {
     "data": {
      "image/png": "[encoded data removed]",
      "text/plain": [
       "<Figure size 640x480 with 1 Axes>"
      ]
     },
     "metadata": {},
     "output_type": "display_data"
    }
   ],
   "source": [
    "fig = plt.figure()\n",
    "ax = plt.subplot(111)\n",
    "\n",
    "for i in range(8):\n",
    "    ax.plot(grid, np.full(N, sorted(E_morse)[i]), label=f\"n={i}\")\n",
    "\n",
    "ax.plot(grid, V_morse, 'black')\n",
    "\n",
    "box = ax.get_position()\n",
    "ax.set_position([box.x0, box.y0, box.width * 0.8, box.height])\n",
    "\n",
    "ax.legend(loc='center left', bbox_to_anchor=(1, 0.5))\n",
    "\n",
    "ax.set_xlim(5.5, 20)\n",
    "ax.set_ylim(-20, 7)\n",
    "ax.set_xlabel('x')\n",
    "ax.set_ylabel('Energy')\n",
    "\n",
    "plt.show()"
   ]
  }
 ],
 "metadata": {
  "kernelspec": {
   "display_name": "Python 3 (ipykernel)",
   "language": "python",
   "name": "python3"
  },
  "language_info": {
   "codemirror_mode": {
    "name": "ipython",
    "version": 3
   },
   "file_extension": ".py",
   "mimetype": "text/x-python",
   "name": "python",
   "nbconvert_exporter": "python",
   "pygments_lexer": "ipython3",
   "version": "3.8.13"
  }
 },
 "nbformat": 4,
 "nbformat_minor": 5
}
